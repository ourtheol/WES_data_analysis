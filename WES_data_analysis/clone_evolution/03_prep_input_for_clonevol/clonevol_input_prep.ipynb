{
 "cells": [
  {
   "cell_type": "code",
   "execution_count": null,
   "id": "d63e8d65",
   "metadata": {},
   "outputs": [],
   "source": [
    "import pandas as pd\n",
    "import numpy as np"
   ]
  },
  {
   "cell_type": "code",
   "execution_count": null,
   "id": "e698ecd5",
   "metadata": {},
   "outputs": [],
   "source": [
    "loci_tsv = \"path/to/pyclone/output/loci.tsv\""
   ]
  },
  {
   "cell_type": "code",
   "execution_count": null,
   "id": "35c497c1",
   "metadata": {},
   "outputs": [],
   "source": [
    "df = pd.read_csv(loci_tsv, header=0, sep = \"\\t\")\n",
    "\n",
    "# split the mutation_id column using pd.Series.str.split()\n",
    "\n",
    "df[[\"Hugo_Symbol\", \"Chromosome\", \"Position\", \"Reference_Allele\", \"Tumor_Seq_Allele2\", \"rsID\"]] = df[\"mutation_id\"].str.split(\":\", expand=True)\n",
    "\n",
    "\n",
    "df_final = df[['mutation_id','Hugo_Symbol', 'sample_id', 'cluster_id','cellular_prevalence', 'cellular_prevalence_std', 'variant_allele_frequency']]\n",
    "df_final.insert(2,'is.driver','')\n",
    "df_final['is.driver'] = 'FALSE'\n",
    "df_final = df_final.rename(columns = {'Hugo_Symbol':'gene'})\n",
    "\n",
    "df_final.to_csv('/home/rania/Documents/Tina/WES/T_608/loci_T_608.tsv', sep=\"\\t\", index = False)\n"
   ]
  },
  {
   "cell_type": "code",
   "execution_count": null,
   "id": "b17b6157",
   "metadata": {},
   "outputs": [],
   "source": []
  }
 ],
 "metadata": {
  "kernelspec": {
   "display_name": "Python 3",
   "language": "python",
   "name": "python3"
  },
  "language_info": {
   "codemirror_mode": {
    "name": "ipython",
    "version": 3
   },
   "file_extension": ".py",
   "mimetype": "text/x-python",
   "name": "python",
   "nbconvert_exporter": "python",
   "pygments_lexer": "ipython3",
   "version": "3.5.6"
  }
 },
 "nbformat": 4,
 "nbformat_minor": 5
}
