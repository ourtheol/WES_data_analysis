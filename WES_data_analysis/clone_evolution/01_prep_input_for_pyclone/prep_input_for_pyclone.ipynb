{
 "cells": [
  {
   "cell_type": "markdown",
   "id": "878505a4",
   "metadata": {},
   "source": [
    "For the input of pyclone (https://github.com/Roth-Lab/pyclone) prepar a table that includes all the SNVs from the 2 timepoints the samples were collected and for each SNV set the normal copy number (normal_cn) to 2 (unless it is a variant on the Y chromosome then normal_cn is set to 1). For each variant check if it is located in regions of CNVs (using the CNV_FACETS output - https://github.com/dariober/cnv_facets#variants). So if the variant was where a CNV is located, the copy number of the minor allele in the malignant cells (minor_cn) and the copy number of the major allele in the malignant cells (major_cn) are set to the values \"LCN_EM\" and \"TCN_EM - LCN_EM\" from the CNV_facets output."
   ]
  },
  {
   "cell_type": "markdown",
   "id": "47ebc6ca",
   "metadata": {},
   "source": [
    "This script is run in a python 3.5 environment."
   ]
  },
  {
   "cell_type": "code",
   "execution_count": 1,
   "id": "35d17209",
   "metadata": {},
   "outputs": [],
   "source": [
    "import vcf\n",
    "import pandas as pd\n",
    "import numpy as np"
   ]
  },
  {
   "cell_type": "code",
   "execution_count": 2,
   "id": "02bb3c9c",
   "metadata": {},
   "outputs": [],
   "source": [
    "def pyclone_prep(T_sample_snvs, T_sample_cnvs, genotype):\n",
    "    \n",
    "    d = {'mutation_id' : [],\n",
    "        'ref_counts' : [],\n",
    "        'var_counts' : [],\n",
    "        'normal_cn' : [],\n",
    "        'minor_cn' : [], \n",
    "        'major_cn' : []\n",
    "        }\n",
    "    \n",
    "\n",
    "    for record in T_sample_snvs:\n",
    "        #print(record)\n",
    "        chrom = record.CHROM\n",
    "        pos = record.POS\n",
    "        ref = record.REF\n",
    "        alt = record.ALT[0]  ##because it has the form of a list\n",
    "        rsid = record.ID\n",
    "        AD_ref = record.genotype(genotype).data.AD[0]\n",
    "        AD_alt = record.genotype(genotype).data.AD[1]\n",
    "    \n",
    "    \n",
    "        if rsid == None:\n",
    "            mutation_ID = str(chrom) + \":\" + str(pos) + \":\" + str(ref) + \":\" + str(alt)\n",
    "        else:\n",
    "            mutation_ID = str(chrom) + \":\" + str(pos) + \":\" + str(ref) + \":\" + str(alt) + \":\" + str(rsid)\n",
    "          \n",
    "            \n",
    "        if chrom == \"chrY\":\n",
    "            normal_cn = 1\n",
    "        else:\n",
    "            normal_cn = 2\n",
    "\n",
    "    \n",
    "    \n",
    "        T_sample_cnvs = T_sample_cnvs\n",
    "        for record_ in T_sample_cnvs:\n",
    "            chrom_ = record_.CHROM\n",
    "            pos_ = record_.POS\n",
    "            end_ = record_.INFO['END']\n",
    "        \n",
    "            tcn_ = record_.INFO['TCN_EM']\n",
    "            minor_cn_ = record_.INFO['LCN_EM']\n",
    "            if minor_cn_ == None:\n",
    "                minor_cn_ = 0\n",
    "            major_cn_ = tcn_ - minor_cn_\n",
    "   \n",
    "            if chrom == chrom_:\n",
    "                if pos >= pos_ and pos <= end_ :\n",
    "                    minor_cn = minor_cn_\n",
    "                    major_cn = major_cn_\n",
    "                else:\n",
    "                    minor_cn = 1\n",
    "                    major_cn = 1\n",
    "                \n",
    "\n",
    "        d['mutation_id'].append(mutation_ID)\n",
    "        d['ref_counts'].append(AD_ref)\n",
    "        d['var_counts'].append(AD_alt)\n",
    "        d['normal_cn'].append(normal_cn)\n",
    "        d['minor_cn'].append(minor_cn)\n",
    "        d['major_cn'].append(major_cn)\n",
    "        \n",
    "    \n",
    "    df = pd.DataFrame(d)\n",
    "    \n",
    "    return df\n",
    "\n",
    "    "
   ]
  },
  {
   "cell_type": "markdown",
   "id": "184b0efb",
   "metadata": {},
   "source": [
    "When the one of the input files is a maf file, use the following function.\n",
    "This will be useful when it is needed to see the gene names for each SNV after pyclone has run."
   ]
  },
  {
   "cell_type": "code",
   "execution_count": null,
   "id": "99ff0cbe",
   "metadata": {},
   "outputs": [],
   "source": [
    "def pyclone_prep_maf(T_sample_snvs, T_sample_cnvs, genotype):\n",
    "    \n",
    "    d = {'mutation_id' : [],\n",
    "        'ref_counts' : [],\n",
    "        'var_counts' : [],\n",
    "        'normal_cn' : [],\n",
    "        'minor_cn' : [], \n",
    "        'major_cn' : []\n",
    "        }\n",
    "    \n",
    "     \n",
    "    # loop through the rows using iterrows()\n",
    "    for index, row in T_sample_snvs.iterrows():\n",
    "        gene = row['Hugo_Symbol']\n",
    "        chrom = row['Chromosome']\n",
    "        pos = row['Start_Position'] \n",
    "        ref = row['Reference_Allele'] \n",
    "        alt = row['Tumor_Seq_Allele2']\n",
    "        rsid = row['dbSNP_RS']\n",
    "        AD_ref = row['t_ref_count']\n",
    "        AD_alt = row['t_alt_count']\n",
    "    \n",
    "    \n",
    "        if rsid == None:\n",
    "            mutation_ID = str(gene) + \":\" + str(chrom) + \":\" + str(pos) + \":\" + str(ref) + \":\" + str(alt)\n",
    "        else:\n",
    "            mutation_ID = str(gene) + \":\" + str(chrom) + \":\" + str(pos) + \":\" + str(ref) + \":\" + str(alt) + \":\" + str(rsid)\n",
    "          \n",
    "            \n",
    "        if chrom == \"chrY\":\n",
    "            normal_cn = 1\n",
    "        else:\n",
    "            normal_cn = 2\n",
    "\n",
    "    \n",
    "    \n",
    "        T_sample_cnvs = T_sample_cnvs\n",
    "        for record_ in T_sample_cnvs:\n",
    "            chrom_ = record_.CHROM\n",
    "            pos_ = record_.POS\n",
    "            end_ = record_.INFO['END']\n",
    "        \n",
    "            tcn_ = record_.INFO['TCN_EM']\n",
    "            minor_cn_ = record_.INFO['LCN_EM']\n",
    "            if minor_cn_ == None:\n",
    "                minor_cn_ = 0\n",
    "            major_cn_ = tcn_ - minor_cn_\n",
    "   \n",
    "            if chrom == chrom_:\n",
    "                if pos >= pos_ and pos <= end_ :\n",
    "                    minor_cn = minor_cn_\n",
    "                    major_cn = major_cn_\n",
    "                else:\n",
    "                    minor_cn = 1\n",
    "                    major_cn = 1\n",
    "                \n",
    "\n",
    "        d['mutation_id'].append(mutation_ID)\n",
    "        d['ref_counts'].append(AD_ref)\n",
    "        d['var_counts'].append(AD_alt)\n",
    "        d['normal_cn'].append(normal_cn)\n",
    "        d['minor_cn'].append(minor_cn)\n",
    "        d['major_cn'].append(major_cn)\n",
    "        \n",
    "    \n",
    "    df = pd.DataFrame(d)\n",
    "    \n",
    "    return df\n",
    "\n",
    "    "
   ]
  },
  {
   "cell_type": "code",
   "execution_count": null,
   "id": "e675c870",
   "metadata": {},
   "outputs": [],
   "source": []
  },
  {
   "cell_type": "markdown",
   "id": "3c2b98de",
   "metadata": {},
   "source": [
    "Example of using the above function with inputs vcf files (after SNV and CNV calling):"
   ]
  },
  {
   "cell_type": "code",
   "execution_count": null,
   "id": "e73e1d2b",
   "metadata": {},
   "outputs": [],
   "source": [
    "T1_sampleID_snvs = vcf.Reader(open('path/to/T1_sampleID.strelka_muTect.somatic.snv.vcf', 'r'))\n",
    "\n",
    "T1_sampleID_cnvs = vcf.Reader(open('path/to/T1_sampleID.vcf', 'r'))\n",
    "\n",
    "\n",
    "df = pyclone_prep(T_sample_snvs = T1_sampleID_snvs, T_sample_cnvs = T1_sampleID_cnvs, genotype = 'T1_sampleID')\n",
    "\n",
    "df.to_csv('T1_sampleID.tsv', sep=\"\\t\", index = False)"
   ]
  },
  {
   "cell_type": "code",
   "execution_count": null,
   "id": "ba3824ae",
   "metadata": {},
   "outputs": [],
   "source": [
    "T2_sampleID_snvs = vcf.Reader(open('path/to/T2_sampleID.strelka_muTect.somatic.snv.vcf', 'r'))\n",
    "\n",
    "T2_sampleID_cnvs = vcf.Reader(open('path/to/T2_sampleID.vcf', 'r'))\n",
    "\n",
    "\n",
    "df = pyclone_prep(T_sample_snvs = T2_sampleID_snvs, T_sample_cnvs = T2_sampleID_cnvs, genotype = 'T2_sampleID')\n",
    "\n",
    "df.to_csv('T2_sampleID.tsv', sep=\"\\t\", index = False)"
   ]
  },
  {
   "cell_type": "code",
   "execution_count": null,
   "id": "68ddf134",
   "metadata": {},
   "outputs": [],
   "source": []
  },
  {
   "cell_type": "markdown",
   "id": "55beb1dd",
   "metadata": {},
   "source": [
    "Example using a MAF file to extract the SNVs"
   ]
  },
  {
   "cell_type": "code",
   "execution_count": null,
   "id": "90ca2331",
   "metadata": {},
   "outputs": [],
   "source": [
    "T_sampleID_snvs = pd.read_csv('T_sampleID.strelka_muTect.somatic.snv.maf',\n",
    "                              delimiter='\\t',\n",
    "                              skiprows=0,\n",
    "                              header=1\n",
    "                             )\n",
    "\n",
    "T_sampleID_cnvs = vcf.Reader(open('T_sampleID.vcf', 'r'))\n",
    "\n",
    "\n",
    "df = pyclone_prep_maf(T_sample_snvs = T_sampleID_snvs, T_sample_cnvs = T_sampleID_cnvs, genotype = 'sampleID')\n",
    "\n",
    "df.to_csv('T_sampleID.tsv', sep=\"\\t\", index = False)"
   ]
  }
 ],
 "metadata": {
  "kernelspec": {
   "display_name": "Python 3",
   "language": "python",
   "name": "python3"
  },
  "language_info": {
   "codemirror_mode": {
    "name": "ipython",
    "version": 3
   },
   "file_extension": ".py",
   "mimetype": "text/x-python",
   "name": "python",
   "nbconvert_exporter": "python",
   "pygments_lexer": "ipython3",
   "version": "3.5.6"
  }
 },
 "nbformat": 4,
 "nbformat_minor": 5
}
