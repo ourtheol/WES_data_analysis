{
 "cells": [
  {
   "cell_type": "markdown",
   "id": "8752062c",
   "metadata": {},
   "source": []
  },
  {
   "cell_type": "code",
   "execution_count": 1,
   "id": "b46c7a3d",
   "metadata": {},
   "outputs": [
    {
     "name": "stderr",
     "output_type": "stream",
     "text": [
      "Registered S3 method overwritten by 'rvest':\n",
      "  method            from\n",
      "  read_xml.response xml2\n",
      "── Attaching packages ─────────────────────────────────────── tidyverse 1.2.1 ──\n",
      "✔ ggplot2 3.4.4       ✔ purrr   1.0.2  \n",
      "✔ tibble  3.2.1       ✔ dplyr   0.8.0.1\n",
      "✔ readr   1.3.1       ✔ stringr 1.5.0  \n",
      "✔ ggplot2 3.4.4       ✔ forcats 0.4.0  \n",
      "── Conflicts ────────────────────────────────────────── tidyverse_conflicts() ──\n",
      "✖ dplyr::filter() masks stats::filter()\n",
      "✖ dplyr::lag()    masks stats::lag()\n"
     ]
    }
   ],
   "source": [
    "library('clonevol')\n",
    "library(tidyr)\n",
    "library(tidyverse)"
   ]
  },
  {
   "cell_type": "code",
   "execution_count": 27,
   "id": "1e5c7d56",
   "metadata": {},
   "outputs": [],
   "source": [
    "loci <- read.table(\"/home/rania/Documents/Tina/WES/T_608/loci_T_608.tsv\", header = T)"
   ]
  },
  {
   "cell_type": "code",
   "execution_count": 28,
   "id": "ebf405f3",
   "metadata": {},
   "outputs": [
    {
     "data": {
      "text/html": [
       "<table>\n",
       "<thead><tr><th scope=col>mutation_id</th><th scope=col>gene</th><th scope=col>is.driver</th><th scope=col>cluster</th><th scope=col>T1_608_cp</th><th scope=col>T_608_cp</th><th scope=col>T1_608_vaf</th><th scope=col>T_608_vaf</th></tr></thead>\n",
       "<tbody>\n",
       "\t<tr><td>AC004702.1:chr17:20321618:T:C:rs752728925 </td><td>AC004702.1                                </td><td>FALSE                                     </td><td>2                                         </td><td>0.9779195                                 </td><td>0.6154080                                 </td><td>0.03426791                                </td><td>0.03426791                                </td></tr>\n",
       "\t<tr><td>AC015818.7:chr17:20503841:A:C:rs610841    </td><td>AC015818.7                                </td><td>FALSE                                     </td><td>2                                         </td><td>0.9836874                                 </td><td>0.6194315                                 </td><td>0.07291667                                </td><td>0.07291667                                </td></tr>\n",
       "\t<tr><td>AC015818.9:chr17:20416503:T:C:rs71263794  </td><td>AC015818.9                                </td><td>FALSE                                     </td><td>2                                         </td><td>0.9821414                                 </td><td>0.6190175                                 </td><td>0.06666667                                </td><td>0.06666667                                </td></tr>\n",
       "\t<tr><td>AC015818.9:chr17:20416658:G:A:rs71263795  </td><td>AC015818.9                                </td><td>FALSE                                     </td><td>1                                         </td><td>0.9874337                                 </td><td>0.6219734                                 </td><td>0.08000000                                </td><td>0.08000000                                </td></tr>\n",
       "\t<tr><td>AC087203.1:chr8:12374513:A:G:novel        </td><td>AC087203.1                                </td><td>FALSE                                     </td><td>1                                         </td><td>0.9951100                                 </td><td>0.6322203                                 </td><td>0.19565217                                </td><td>0.19565217                                </td></tr>\n",
       "\t<tr><td>AC233702.4:chr17:21657101:C:T:rs1418919501</td><td>AC233702.4                                </td><td>FALSE                                     </td><td>1                                         </td><td>0.9952287                                 </td><td>0.6388105                                 </td><td>0.30000000                                </td><td>0.30000000                                </td></tr>\n",
       "</tbody>\n",
       "</table>\n"
      ],
      "text/latex": [
       "\\begin{tabular}{r|llllllll}\n",
       " mutation\\_id & gene & is.driver & cluster & T1\\_608\\_cp & T\\_608\\_cp & T1\\_608\\_vaf & T\\_608\\_vaf\\\\\n",
       "\\hline\n",
       "\t AC004702.1:chr17:20321618:T:C:rs752728925  & AC004702.1                                 & FALSE                                      & 2                                          & 0.9779195                                  & 0.6154080                                  & 0.03426791                                 & 0.03426791                                \\\\\n",
       "\t AC015818.7:chr17:20503841:A:C:rs610841     & AC015818.7                                 & FALSE                                      & 2                                          & 0.9836874                                  & 0.6194315                                  & 0.07291667                                 & 0.07291667                                \\\\\n",
       "\t AC015818.9:chr17:20416503:T:C:rs71263794   & AC015818.9                                 & FALSE                                      & 2                                          & 0.9821414                                  & 0.6190175                                  & 0.06666667                                 & 0.06666667                                \\\\\n",
       "\t AC015818.9:chr17:20416658:G:A:rs71263795   & AC015818.9                                 & FALSE                                      & 1                                          & 0.9874337                                  & 0.6219734                                  & 0.08000000                                 & 0.08000000                                \\\\\n",
       "\t AC087203.1:chr8:12374513:A:G:novel         & AC087203.1                                 & FALSE                                      & 1                                          & 0.9951100                                  & 0.6322203                                  & 0.19565217                                 & 0.19565217                                \\\\\n",
       "\t AC233702.4:chr17:21657101:C:T:rs1418919501 & AC233702.4                                 & FALSE                                      & 1                                          & 0.9952287                                  & 0.6388105                                  & 0.30000000                                 & 0.30000000                                \\\\\n",
       "\\end{tabular}\n"
      ],
      "text/markdown": [
       "\n",
       "| mutation_id | gene | is.driver | cluster | T1_608_cp | T_608_cp | T1_608_vaf | T_608_vaf |\n",
       "|---|---|---|---|---|---|---|---|\n",
       "| AC004702.1:chr17:20321618:T:C:rs752728925  | AC004702.1                                 | FALSE                                      | 2                                          | 0.9779195                                  | 0.6154080                                  | 0.03426791                                 | 0.03426791                                 |\n",
       "| AC015818.7:chr17:20503841:A:C:rs610841     | AC015818.7                                 | FALSE                                      | 2                                          | 0.9836874                                  | 0.6194315                                  | 0.07291667                                 | 0.07291667                                 |\n",
       "| AC015818.9:chr17:20416503:T:C:rs71263794   | AC015818.9                                 | FALSE                                      | 2                                          | 0.9821414                                  | 0.6190175                                  | 0.06666667                                 | 0.06666667                                 |\n",
       "| AC015818.9:chr17:20416658:G:A:rs71263795   | AC015818.9                                 | FALSE                                      | 1                                          | 0.9874337                                  | 0.6219734                                  | 0.08000000                                 | 0.08000000                                 |\n",
       "| AC087203.1:chr8:12374513:A:G:novel         | AC087203.1                                 | FALSE                                      | 1                                          | 0.9951100                                  | 0.6322203                                  | 0.19565217                                 | 0.19565217                                 |\n",
       "| AC233702.4:chr17:21657101:C:T:rs1418919501 | AC233702.4                                 | FALSE                                      | 1                                          | 0.9952287                                  | 0.6388105                                  | 0.30000000                                 | 0.30000000                                 |\n",
       "\n"
      ],
      "text/plain": [
       "  mutation_id                                gene       is.driver cluster\n",
       "1 AC004702.1:chr17:20321618:T:C:rs752728925  AC004702.1 FALSE     2      \n",
       "2 AC015818.7:chr17:20503841:A:C:rs610841     AC015818.7 FALSE     2      \n",
       "3 AC015818.9:chr17:20416503:T:C:rs71263794   AC015818.9 FALSE     2      \n",
       "4 AC015818.9:chr17:20416658:G:A:rs71263795   AC015818.9 FALSE     1      \n",
       "5 AC087203.1:chr8:12374513:A:G:novel         AC087203.1 FALSE     1      \n",
       "6 AC233702.4:chr17:21657101:C:T:rs1418919501 AC233702.4 FALSE     1      \n",
       "  T1_608_cp T_608_cp  T1_608_vaf T_608_vaf \n",
       "1 0.9779195 0.6154080 0.03426791 0.03426791\n",
       "2 0.9836874 0.6194315 0.07291667 0.07291667\n",
       "3 0.9821414 0.6190175 0.06666667 0.06666667\n",
       "4 0.9874337 0.6219734 0.08000000 0.08000000\n",
       "5 0.9951100 0.6322203 0.19565217 0.19565217\n",
       "6 0.9952287 0.6388105 0.30000000 0.30000000"
      ]
     },
     "metadata": {},
     "output_type": "display_data"
    }
   ],
   "source": [
    "## The cluster should be named by contiguous integer numbers, starting from 1\n",
    "## pyclone clusters start from 0\n",
    "\n",
    "loci$cluster_id <- loci$cluster_id + 1\n",
    "loci.cp = subset(loci, select = -c(cellular_prevalence_std,variant_allele_frequency))\n",
    "#head(loci.cp)\n",
    "\n",
    "# The arguments to spread():\n",
    "# - data: Data object\n",
    "# - key: Name of column containing the new column names\n",
    "# - value: Name of column containing values\n",
    "\n",
    "data_wide_cp <- loci.cp %>% group_by(mutation_id) \n",
    "data_wide_cp <- spread(data_wide_cp, sample_id, cellular_prevalence)\n",
    "\n",
    "colnames(data_wide_cp) <- c('mutation_id','gene','is.driver','cluster','T1_608_cp','T_608_cp')\n",
    "#head(data_wide_cp)\n",
    "\n",
    "loci.vaf = subset(loci, select = -c(cellular_prevalence_std,cellular_prevalence,gene,is.driver,cluster_id))\n",
    "#head(loci.vaf)\n",
    "\n",
    "data_wide_vaf <- loci.vaf %>% group_by(mutation_id) \n",
    "data_wide_vaf <- spread(data_wide_vaf, sample_id, variant_allele_frequency)\n",
    "\n",
    "colnames(data_wide_vaf) <- c('mutation_id','T1_608_vaf','T_608_vaf')\n",
    "#head(data_wide_vaf)\n",
    "\n",
    "d <- merge(data_wide_cp, data_wide_vaf)\n",
    "head(d)"
   ]
  },
  {
   "cell_type": "code",
   "execution_count": 29,
   "id": "cd9203f8",
   "metadata": {},
   "outputs": [
    {
     "data": {
      "text/html": [
       "<ol class=list-inline>\n",
       "\t<li>'T1_608_vaf'</li>\n",
       "\t<li>'T_608_vaf'</li>\n",
       "</ol>\n"
      ],
      "text/latex": [
       "\\begin{enumerate*}\n",
       "\\item 'T1\\_608\\_vaf'\n",
       "\\item 'T\\_608\\_vaf'\n",
       "\\end{enumerate*}\n"
      ],
      "text/markdown": [
       "1. 'T1_608_vaf'\n",
       "2. 'T_608_vaf'\n",
       "\n",
       "\n"
      ],
      "text/plain": [
       "[1] \"T1_608_vaf\" \"T_608_vaf\" "
      ]
     },
     "metadata": {},
     "output_type": "display_data"
    }
   ],
   "source": [
    "vaf.col.names <- grep('.vaf', colnames(d), value=T)\n",
    "vaf.col.names"
   ]
  },
  {
   "cell_type": "code",
   "execution_count": 30,
   "id": "6d137a68",
   "metadata": {},
   "outputs": [
    {
     "data": {
      "text/html": [
       "<ol class=list-inline>\n",
       "\t<li>'T1_608_cp'</li>\n",
       "\t<li>'T_608_cp'</li>\n",
       "</ol>\n"
      ],
      "text/latex": [
       "\\begin{enumerate*}\n",
       "\\item 'T1\\_608\\_cp'\n",
       "\\item 'T\\_608\\_cp'\n",
       "\\end{enumerate*}\n"
      ],
      "text/markdown": [
       "1. 'T1_608_cp'\n",
       "2. 'T_608_cp'\n",
       "\n",
       "\n"
      ],
      "text/plain": [
       "[1] \"T1_608_cp\" \"T_608_cp\" "
      ]
     },
     "metadata": {},
     "output_type": "display_data"
    }
   ],
   "source": [
    "cp.col.names <- grep('.cp', colnames(d), value=T)\n",
    "cp.col.names"
   ]
  },
  {
   "cell_type": "code",
   "execution_count": 31,
   "id": "7afcddfd",
   "metadata": {},
   "outputs": [
    {
     "data": {
      "text/html": [
       "<ol class=list-inline>\n",
       "\t<li>'T1_608_cp'</li>\n",
       "\t<li>'T_608_cp'</li>\n",
       "</ol>\n"
      ],
      "text/latex": [
       "\\begin{enumerate*}\n",
       "\\item 'T1\\_608\\_cp'\n",
       "\\item 'T\\_608\\_cp'\n",
       "\\end{enumerate*}\n"
      ],
      "text/markdown": [
       "1. 'T1_608_cp'\n",
       "2. 'T_608_cp'\n",
       "\n",
       "\n"
      ],
      "text/plain": [
       "[1] \"T1_608_cp\" \"T_608_cp\" "
      ]
     },
     "metadata": {},
     "output_type": "display_data"
    }
   ],
   "source": [
    "sample.names <- c('T1_608_cp','T_608_cp')\n",
    "sample.names"
   ]
  },
  {
   "cell_type": "code",
   "execution_count": 32,
   "id": "2b0f4479",
   "metadata": {},
   "outputs": [
    {
     "data": {
      "text/html": [
       "<table>\n",
       "<thead><tr><th></th><th scope=col>mutation_id</th><th scope=col>gene</th><th scope=col>is.driver</th><th scope=col>cluster</th><th scope=col>T1_608_cp</th><th scope=col>T_608_cp</th><th scope=col>T1_608_vaf</th><th scope=col>T_608_vaf</th></tr></thead>\n",
       "<tbody>\n",
       "\t<tr><th scope=row>4</th><td>AC015818.9:chr17:20416658:G:A:rs71263795  </td><td>AC015818.9                                </td><td>FALSE                                     </td><td>1                                         </td><td>0.9874337                                 </td><td>0.6219734                                 </td><td>0.0800000                                 </td><td>0.0800000                                 </td></tr>\n",
       "\t<tr><th scope=row>5</th><td>AC087203.1:chr8:12374513:A:G:novel        </td><td>AC087203.1                                </td><td>FALSE                                     </td><td>1                                         </td><td>0.9951100                                 </td><td>0.6322203                                 </td><td>0.1956522                                 </td><td>0.1956522                                 </td></tr>\n",
       "\t<tr><th scope=row>6</th><td>AC233702.4:chr17:21657101:C:T:rs1418919501</td><td>AC233702.4                                </td><td>FALSE                                     </td><td>1                                         </td><td>0.9952287                                 </td><td>0.6388105                                 </td><td>0.3000000                                 </td><td>0.3000000                                 </td></tr>\n",
       "\t<tr><th scope=row>7</th><td>AC233702.4:chr17:21657174:C:T:rs1170297100</td><td>AC233702.4                                </td><td>FALSE                                     </td><td>1                                         </td><td>0.9954707                                 </td><td>0.6427845                                 </td><td>0.4615385                                 </td><td>0.4615385                                 </td></tr>\n",
       "\t<tr><th scope=row>8</th><td>ADGRE5:chr19:14388171:T:G:novel           </td><td>ADGRE5                                    </td><td>FALSE                                     </td><td>1                                         </td><td>0.9943260                                 </td><td>0.6269363                                 </td><td>0.1428571                                 </td><td>0.1428571                                 </td></tr>\n",
       "\t<tr><th scope=row>9</th><td>AGPAT5:chr8:6708585:T:G:rs909594498       </td><td>AGPAT5                                    </td><td>FALSE                                     </td><td>1                                         </td><td>0.9951918                                 </td><td>0.6367489                                 </td><td>0.2222222                                 </td><td>0.2222222                                 </td></tr>\n",
       "</tbody>\n",
       "</table>\n"
      ],
      "text/latex": [
       "\\begin{tabular}{r|llllllll}\n",
       "  & mutation\\_id & gene & is.driver & cluster & T1\\_608\\_cp & T\\_608\\_cp & T1\\_608\\_vaf & T\\_608\\_vaf\\\\\n",
       "\\hline\n",
       "\t4 & AC015818.9:chr17:20416658:G:A:rs71263795   & AC015818.9                                 & FALSE                                      & 1                                          & 0.9874337                                  & 0.6219734                                  & 0.0800000                                  & 0.0800000                                 \\\\\n",
       "\t5 & AC087203.1:chr8:12374513:A:G:novel         & AC087203.1                                 & FALSE                                      & 1                                          & 0.9951100                                  & 0.6322203                                  & 0.1956522                                  & 0.1956522                                 \\\\\n",
       "\t6 & AC233702.4:chr17:21657101:C:T:rs1418919501 & AC233702.4                                 & FALSE                                      & 1                                          & 0.9952287                                  & 0.6388105                                  & 0.3000000                                  & 0.3000000                                 \\\\\n",
       "\t7 & AC233702.4:chr17:21657174:C:T:rs1170297100 & AC233702.4                                 & FALSE                                      & 1                                          & 0.9954707                                  & 0.6427845                                  & 0.4615385                                  & 0.4615385                                 \\\\\n",
       "\t8 & ADGRE5:chr19:14388171:T:G:novel            & ADGRE5                                     & FALSE                                      & 1                                          & 0.9943260                                  & 0.6269363                                  & 0.1428571                                  & 0.1428571                                 \\\\\n",
       "\t9 & AGPAT5:chr8:6708585:T:G:rs909594498        & AGPAT5                                     & FALSE                                      & 1                                          & 0.9951918                                  & 0.6367489                                  & 0.2222222                                  & 0.2222222                                 \\\\\n",
       "\\end{tabular}\n"
      ],
      "text/markdown": [
       "\n",
       "| <!--/--> | mutation_id | gene | is.driver | cluster | T1_608_cp | T_608_cp | T1_608_vaf | T_608_vaf |\n",
       "|---|---|---|---|---|---|---|---|---|\n",
       "| 4 | AC015818.9:chr17:20416658:G:A:rs71263795   | AC015818.9                                 | FALSE                                      | 1                                          | 0.9874337                                  | 0.6219734                                  | 0.0800000                                  | 0.0800000                                  |\n",
       "| 5 | AC087203.1:chr8:12374513:A:G:novel         | AC087203.1                                 | FALSE                                      | 1                                          | 0.9951100                                  | 0.6322203                                  | 0.1956522                                  | 0.1956522                                  |\n",
       "| 6 | AC233702.4:chr17:21657101:C:T:rs1418919501 | AC233702.4                                 | FALSE                                      | 1                                          | 0.9952287                                  | 0.6388105                                  | 0.3000000                                  | 0.3000000                                  |\n",
       "| 7 | AC233702.4:chr17:21657174:C:T:rs1170297100 | AC233702.4                                 | FALSE                                      | 1                                          | 0.9954707                                  | 0.6427845                                  | 0.4615385                                  | 0.4615385                                  |\n",
       "| 8 | ADGRE5:chr19:14388171:T:G:novel            | ADGRE5                                     | FALSE                                      | 1                                          | 0.9943260                                  | 0.6269363                                  | 0.1428571                                  | 0.1428571                                  |\n",
       "| 9 | AGPAT5:chr8:6708585:T:G:rs909594498        | AGPAT5                                     | FALSE                                      | 1                                          | 0.9951918                                  | 0.6367489                                  | 0.2222222                                  | 0.2222222                                  |\n",
       "\n"
      ],
      "text/plain": [
       "  mutation_id                                gene       is.driver cluster\n",
       "4 AC015818.9:chr17:20416658:G:A:rs71263795   AC015818.9 FALSE     1      \n",
       "5 AC087203.1:chr8:12374513:A:G:novel         AC087203.1 FALSE     1      \n",
       "6 AC233702.4:chr17:21657101:C:T:rs1418919501 AC233702.4 FALSE     1      \n",
       "7 AC233702.4:chr17:21657174:C:T:rs1170297100 AC233702.4 FALSE     1      \n",
       "8 ADGRE5:chr19:14388171:T:G:novel            ADGRE5     FALSE     1      \n",
       "9 AGPAT5:chr8:6708585:T:G:rs909594498        AGPAT5     FALSE     1      \n",
       "  T1_608_cp T_608_cp  T1_608_vaf T_608_vaf\n",
       "4 0.9874337 0.6219734 0.0800000  0.0800000\n",
       "5 0.9951100 0.6322203 0.1956522  0.1956522\n",
       "6 0.9952287 0.6388105 0.3000000  0.3000000\n",
       "7 0.9954707 0.6427845 0.4615385  0.4615385\n",
       "8 0.9943260 0.6269363 0.1428571  0.1428571\n",
       "9 0.9951918 0.6367489 0.2222222  0.2222222"
      ]
     },
     "metadata": {},
     "output_type": "display_data"
    }
   ],
   "source": [
    "# prepare sample grouping\n",
    "sample.groups <- c('T1_608_cp','T_608_cp');\n",
    "names(sample.groups) <- cp.col.names\n",
    "\n",
    "# setup the order of clusters to display in various plots (later)\n",
    "d <- d[order(d$cluster),]\n",
    "\n",
    "head(d)"
   ]
  },
  {
   "cell_type": "code",
   "execution_count": 33,
   "id": "b63473b9",
   "metadata": {},
   "outputs": [],
   "source": [
    "library(RColorBrewer)\n",
    "# choose colors for the clones\n",
    "clone.colors <- c(brewer.pal(n = 8, name = \"Dark2\"))"
   ]
  },
  {
   "cell_type": "code",
   "execution_count": 34,
   "id": "07131ca5",
   "metadata": {},
   "outputs": [
    {
     "name": "stderr",
     "output_type": "stream",
     "text": [
      "Warning message:\n",
      "“The `show_guide` argument of `layer()` is deprecated as of ggplot2 2.0.0.\n",
      "ℹ Please use the `show.legend` argument instead.\n",
      "ℹ The deprecated feature was likely used in the clonevol package.\n",
      "  Please report the issue to the authors.”"
     ]
    },
    {
     "data": {
      "text/html": [
       "<strong>png:</strong> 2"
      ],
      "text/latex": [
       "\\textbf{png:} 2"
      ],
      "text/markdown": [
       "**png:** 2"
      ],
      "text/plain": [
       "png \n",
       "  2 "
      ]
     },
     "metadata": {},
     "output_type": "display_data"
    }
   ],
   "source": [
    "# Visualizing the variant clusters --> VAF\n",
    "pdf('box.pdf', width = 5, height = 5, useDingbats = FALSE, title='')\n",
    "pp <- plot.variant.clusters(d,\n",
    "cluster.col.name = 'cluster',\n",
    "show.cluster.size = FALSE,\n",
    "cluster.size.text.color = 'blue',\n",
    "vaf.col.names = vaf.col.names,    ##maybe you want ccf in the plot\n",
    "vaf.limits = 1,\n",
    "sample.title.size = 10,\n",
    "violin = FALSE,\n",
    "box = FALSE,\n",
    "jitter = TRUE,\n",
    "jitter.shape = 1,\n",
    "jitter.color = clone.colors,\n",
    "jitter.size = 2,\n",
    "jitter.alpha = 1,\n",
    "jitter.center.method = 'median',\n",
    "jitter.center.size = 1,\n",
    "jitter.center.color = 'darkgray',\n",
    "jitter.center.display.value = 'none',\n",
    "highlight = 'is.driver',\n",
    "highlight.shape = 15,\n",
    "highlight.color = 'blue',\n",
    "highlight.fill.color = 'green',\n",
    "highlight.note.col.name = 'gene',\n",
    "highlight.note.size = 2,\n",
    "order.by.total.vaf = FALSE)\n",
    "dev.off()"
   ]
  },
  {
   "cell_type": "code",
   "execution_count": 35,
   "id": "3e911224",
   "metadata": {},
   "outputs": [
    {
     "data": {
      "text/html": [
       "<strong>png:</strong> 2"
      ],
      "text/latex": [
       "\\textbf{png:} 2"
      ],
      "text/markdown": [
       "**png:** 2"
      ],
      "text/plain": [
       "png \n",
       "  2 "
      ]
     },
     "metadata": {},
     "output_type": "display_data"
    }
   ],
   "source": [
    "# Visualizing the variant clusters  --> CP\n",
    "pdf('box2.pdf', width = 5, height = 5, useDingbats = FALSE, title='')\n",
    "pp <- plot.variant.clusters(d,\n",
    "cluster.col.name = 'cluster',\n",
    "show.cluster.size = FALSE,\n",
    "cluster.size.text.color = 'blue',\n",
    "vaf.col.names = cp.col.names,    ##maybe you want ccf in the plot\n",
    "vaf.limits = 1,\n",
    "sample.title.size = 10,\n",
    "violin = FALSE,\n",
    "box = FALSE,\n",
    "jitter = TRUE,\n",
    "jitter.shape = 1,\n",
    "jitter.color = clone.colors,\n",
    "jitter.size = 2,\n",
    "jitter.alpha = 1,\n",
    "jitter.center.method = 'median',\n",
    "jitter.center.size = 1,\n",
    "jitter.center.color = 'darkgray',\n",
    "jitter.center.display.value = 'none',\n",
    "highlight = 'is.driver',\n",
    "highlight.shape = 15,\n",
    "highlight.color = 'blue',\n",
    "highlight.fill.color = 'green',\n",
    "highlight.note.col.name = 'gene',\n",
    "highlight.note.size = 2,\n",
    "order.by.total.vaf = FALSE)\n",
    "dev.off()"
   ]
  },
  {
   "cell_type": "code",
   "execution_count": 36,
   "id": "afbe1adf",
   "metadata": {},
   "outputs": [],
   "source": [
    "# shorten cp column names as they will be\n",
    "cp.col.names <- grep('cp', colnames(d), value=T)\n",
    "sample.names <- gsub('_cp', '', cp.col.names)\n",
    "d[, sample.names] <- d[, cp.col.names]\n",
    "cp.col.names <- sample.names\n",
    "# prepare sample grouping\n",
    "sample.groups <- c('T1_608_cp','T_608_cp');\n",
    "names(sample.groups) <- cp.col.names\n",
    "# setup the order of clusters to display in various plots (later)\n",
    "d <- d[order(d$cluster),]"
   ]
  },
  {
   "cell_type": "code",
   "execution_count": 37,
   "id": "a43d4f52",
   "metadata": {},
   "outputs": [
    {
     "name": "stdout",
     "output_type": "stream",
     "text": [
      "'data.frame':\t299 obs. of  10 variables:\n",
      " $ mutation_id: chr  \"AC015818.9:chr17:20416658:G:A:rs71263795\" \"AC087203.1:chr8:12374513:A:G:novel\" \"AC233702.4:chr17:21657101:C:T:rs1418919501\" \"AC233702.4:chr17:21657174:C:T:rs1170297100\" ...\n",
      " $ gene       : chr  \"AC015818.9\" \"AC087203.1\" \"AC233702.4\" \"AC233702.4\" ...\n",
      " $ is.driver  : logi  FALSE FALSE FALSE FALSE FALSE FALSE ...\n",
      " $ cluster    : chr  \"1\" \"1\" \"1\" \"1\" ...\n",
      " $ T1_608_cp  : num  0.987 0.995 0.995 0.995 0.994 ...\n",
      " $ T_608_cp   : num  0.622 0.632 0.639 0.643 0.627 ...\n",
      " $ T1_608_vaf : num  0.08 0.196 0.3 0.462 0.143 ...\n",
      " $ T_608_vaf  : num  0.08 0.196 0.3 0.462 0.143 ...\n",
      " $ T1_608     : num  0.987 0.995 0.995 0.995 0.994 ...\n",
      " $ T_608      : num  0.622 0.632 0.639 0.643 0.627 ...\n"
     ]
    }
   ],
   "source": [
    "d$T1_608_cp <-  as.numeric(as.character(d$T1_608_cp))\n",
    "d$T_608_cp <-  as.numeric(as.character(d$T_608_cp))\n",
    "d$T1_608 <-  as.numeric(as.character(d$T1_608))\n",
    "d$T_608 <-  as.numeric(as.character(d$T_608))\n",
    "d$cluster <- as.character(d$cluster)\n",
    "d$gene <- as.character(d$gene)\n",
    "d$mutation_id <- as.character(d$mutation_id)\n",
    "\n",
    "str(d) "
   ]
  },
  {
   "cell_type": "code",
   "execution_count": 49,
   "id": "346564b6",
   "metadata": {},
   "outputs": [
    {
     "data": {
      "text/html": [
       "<strong>png:</strong> 2"
      ],
      "text/latex": [
       "\\textbf{png:} 2"
      ],
      "text/markdown": [
       "**png:** 2"
      ],
      "text/plain": [
       "png \n",
       "  2 "
      ]
     },
     "metadata": {},
     "output_type": "display_data"
    }
   ],
   "source": [
    "# Plotting pairwise VAFs or CCFs across samples\n",
    "\n",
    "plot.pairwise(d, col.names = cp.col.names,\n",
    "                    out.prefix = 'variants.pairwise.plot',\n",
    "                    xMinSmall = 0, xMaxSmall = 1, yMinSmall = 0, yMaxSmall = 1,\n",
    "                    colors = clone.colors)\n"
   ]
  },
  {
   "cell_type": "code",
   "execution_count": 50,
   "id": "004d51fc",
   "metadata": {},
   "outputs": [
    {
     "data": {
      "text/html": [
       "<strong>png:</strong> 2"
      ],
      "text/latex": [
       "\\textbf{png:} 2"
      ],
      "text/markdown": [
       "**png:** 2"
      ],
      "text/plain": [
       "png \n",
       "  2 "
      ]
     },
     "metadata": {},
     "output_type": "display_data"
    }
   ],
   "source": [
    "# Plotting mean/median of clusters across samples (cluster flow)\n",
    "pdf('flow_cp.pdf', width=6, height=6, useDingbats=FALSE, title='')\n",
    "plot.cluster.flow(d, vaf.col.names = cp.col.names,  ## plot ccfs \n",
    "                  sample.names = c('T1_608', 'T_608'),\n",
    "                  vaf.in.percent = FALSE,\n",
    "                  y.title = \"Cellular Prevalence\",\n",
    "                  colors = clone.colors,\n",
    "                  width=6, height=6)\n",
    "dev.off()"
   ]
  },
  {
   "cell_type": "code",
   "execution_count": 51,
   "id": "0980822d",
   "metadata": {},
   "outputs": [
    {
     "data": {
      "text/html": [
       "<strong>png:</strong> 2"
      ],
      "text/latex": [
       "\\textbf{png:} 2"
      ],
      "text/markdown": [
       "**png:** 2"
      ],
      "text/plain": [
       "png \n",
       "  2 "
      ]
     },
     "metadata": {},
     "output_type": "display_data"
    }
   ],
   "source": [
    "# Plotting mean/median of clusters across samples (cluster flow)\n",
    "pdf('flow_vaf.pdf', width=6, height=6, useDingbats=FALSE, title='')\n",
    "plot.cluster.flow(d, vaf.col.names = vaf.col.names,  ## plot ccfs \n",
    "                  sample.names = c('T1_608', 'T_608'),\n",
    "                  vaf.in.percent = FALSE,\n",
    "                  y.title = \"Variant Allele Frequencies\",\n",
    "                  colors = clone.colors,\n",
    "                  width=6, height=6)\n",
    "dev.off()"
   ]
  },
  {
   "cell_type": "code",
   "execution_count": null,
   "id": "ae10f364",
   "metadata": {},
   "outputs": [],
   "source": []
  },
  {
   "cell_type": "code",
   "execution_count": 40,
   "id": "f19b64bd",
   "metadata": {},
   "outputs": [],
   "source": [
    "d.infermodel <- d"
   ]
  },
  {
   "cell_type": "code",
   "execution_count": 41,
   "id": "3de86f9d",
   "metadata": {},
   "outputs": [
    {
     "name": "stdout",
     "output_type": "stream",
     "text": [
      "Calculate VAF as CCF/2\n",
      "Sample 1: T1_608 <-- T1_608\n",
      "Sample 2: T_608 <-- T_608\n",
      "Using monoclonal model\n",
      "Generating non-parametric boostrap samples...\n",
      "T1_608 : Enumerating clonal architectures...\n",
      "Determining if cluster VAF is significantly positive...\n",
      "Exluding clusters whose VAF < min.cluster.vaf=0.01\n",
      "Non-positive VAF clusters:  \n",
      "T1_608 : 1 clonal architecture model(s) found\n",
      "\n",
      "T_608 : Enumerating clonal architectures...\n",
      "Determining if cluster VAF is significantly positive...\n",
      "Exluding clusters whose VAF < min.cluster.vaf=0.01\n",
      "Non-positive VAF clusters:  \n",
      "T_608 : 1 clonal architecture model(s) found\n",
      "\n",
      "Finding consensus models across samples...\n",
      "Found  1 consensus model(s)\n",
      "Generating consensus clonal evolution trees across samples...\n",
      "Found 1 consensus model(s)\n",
      "Scoring models...\n",
      "Pruning consensus clonal evolution trees....\n",
      "Seeding aware pruning is:  off\n",
      "Number of unique pruned consensus trees: 1 \n"
     ]
    }
   ],
   "source": [
    "## Clonal models\n",
    "\n",
    "y = infer.clonal.models(variants = d.infermodel,\n",
    "cluster.col.name = 'cluster',  ## default name there is a bug\n",
    "ccf.col.names = cp.col.names,\n",
    "sample.groups = sample.groups,\n",
    "cancer.initiation.model='monoclonal',\n",
    "subclonal.test = 'bootstrap',\n",
    "subclonal.test.model = 'non-parametric',\n",
    "num.boots = 1000,\n",
    "founding.cluster = 1,\n",
    "cluster.center = 'mean',\n",
    "ignore.clusters = NULL,  \n",
    "clone.colors = clone.colors,\n",
    "min.cluster.vaf = 0.01,\n",
    "# min probability that CCF(clone) is non-negative\n",
    "sum.p = 0.05,\n",
    "# alpha level in confidence interval estimate for CCF(clone)\n",
    "alpha = 0.05,\n",
    "vaf.in.percent = FALSE)"
   ]
  },
  {
   "cell_type": "code",
   "execution_count": 42,
   "id": "03bb19ac",
   "metadata": {},
   "outputs": [],
   "source": [
    "y <- transfer.events.to.consensus.trees(y,\n",
    "d.infermodel[d.infermodel$is.driver,],\n",
    "cluster.col.name = 'cluster',\n",
    "event.col.name = 'gene')"
   ]
  },
  {
   "cell_type": "code",
   "execution_count": 43,
   "id": "43e8b72c",
   "metadata": {},
   "outputs": [],
   "source": [
    "y <- convert.consensus.tree.clone.to.branch(y, branch.scale = 'sqrt')"
   ]
  },
  {
   "cell_type": "code",
   "execution_count": 44,
   "id": "7d9c7e23",
   "metadata": {},
   "outputs": [
    {
     "data": {
      "text/html": [
       "<ol class=list-inline>\n",
       "\t<li>'mutation_id'</li>\n",
       "\t<li>'gene'</li>\n",
       "\t<li>'is.driver'</li>\n",
       "\t<li>'cluster'</li>\n",
       "\t<li>'T1_608_cp'</li>\n",
       "\t<li>'T_608_cp'</li>\n",
       "\t<li>'T1_608_vaf'</li>\n",
       "\t<li>'T_608_vaf'</li>\n",
       "\t<li>'T1_608'</li>\n",
       "\t<li>'T_608'</li>\n",
       "</ol>\n"
      ],
      "text/latex": [
       "\\begin{enumerate*}\n",
       "\\item 'mutation\\_id'\n",
       "\\item 'gene'\n",
       "\\item 'is.driver'\n",
       "\\item 'cluster'\n",
       "\\item 'T1\\_608\\_cp'\n",
       "\\item 'T\\_608\\_cp'\n",
       "\\item 'T1\\_608\\_vaf'\n",
       "\\item 'T\\_608\\_vaf'\n",
       "\\item 'T1\\_608'\n",
       "\\item 'T\\_608'\n",
       "\\end{enumerate*}\n"
      ],
      "text/markdown": [
       "1. 'mutation_id'\n",
       "2. 'gene'\n",
       "3. 'is.driver'\n",
       "4. 'cluster'\n",
       "5. 'T1_608_cp'\n",
       "6. 'T_608_cp'\n",
       "7. 'T1_608_vaf'\n",
       "8. 'T_608_vaf'\n",
       "9. 'T1_608'\n",
       "10. 'T_608'\n",
       "\n",
       "\n"
      ],
      "text/plain": [
       " [1] \"mutation_id\" \"gene\"        \"is.driver\"   \"cluster\"     \"T1_608_cp\"  \n",
       " [6] \"T_608_cp\"    \"T1_608_vaf\"  \"T_608_vaf\"   \"T1_608\"      \"T_608\"      "
      ]
     },
     "metadata": {},
     "output_type": "display_data"
    }
   ],
   "source": [
    "## The T1_805, T2_805 columns that used to contain the ccf (cp) after the model is run have been changed\n",
    "## I renamed the column names in order to plot the ccf in the final plot\n",
    "\n",
    "colnames(y$variants)\n",
    "colnames(y$variants) <- c('mutation_id','gene','is.driver','cluster','T1_608','T_608','T1_608_vaf','T_608_vaf','T1_608_aftermodel','T_608_aftermodel')"
   ]
  },
  {
   "cell_type": "code",
   "execution_count": 46,
   "id": "7fb3ce73",
   "metadata": {},
   "outputs": [
    {
     "name": "stderr",
     "output_type": "stream",
     "text": [
      "\n",
      "Attaching package: ‘igraph’\n",
      "\n",
      "The following objects are masked from ‘package:dplyr’:\n",
      "\n",
      "    as_data_frame, groups, union\n",
      "\n",
      "The following objects are masked from ‘package:purrr’:\n",
      "\n",
      "    compose, simplify\n",
      "\n",
      "The following object is masked from ‘package:tibble’:\n",
      "\n",
      "    as_data_frame\n",
      "\n",
      "The following object is masked from ‘package:tidyr’:\n",
      "\n",
      "    crossing\n",
      "\n",
      "The following objects are masked from ‘package:stats’:\n",
      "\n",
      "    decompose, spectrum\n",
      "\n",
      "The following object is masked from ‘package:base’:\n",
      "\n",
      "    union\n",
      "\n"
     ]
    },
    {
     "name": "stdout",
     "output_type": "stream",
     "text": [
      "Plotting pruned consensus trees...\n",
      "Output plots are in: output\n"
     ]
    }
   ],
   "source": [
    "plot.clonal.models(y,\n",
    "samples = c('T1_608','T_608'),\n",
    "# box plot parameters\n",
    "box.plot = TRUE,\n",
    "fancy.boxplot = TRUE,\n",
    "fancy.variant.boxplot.highlight = 'is.driver',\n",
    "fancy.variant.boxplot.highlight.shape = 21,\n",
    "fancy.variant.boxplot.highlight.fill.color = 'red',\n",
    "fancy.variant.boxplot.highlight.color = 'black',\n",
    "fancy.variant.boxplot.highlight.note.col.name = 'gene',\n",
    "fancy.variant.boxplot.highlight.note.color = 'blue',\n",
    "fancy.variant.boxplot.highlight.note.size = 2,\n",
    "fancy.variant.boxplot.jitter.alpha = 1,\n",
    "fancy.variant.boxplot.jitter.center.color = 'grey50',\n",
    "fancy.variant.boxplot.base_size = 12,\n",
    "fancy.variant.boxplot.plot.margin = 1,\n",
    "\n",
    "fancy.variant.boxplot.vaf.suffix = '.CCF',\n",
    "fancy.variant.boxplot.vaf.limits = 1,\n",
    "# bell plot parameters\n",
    "clone.shape = 'bell',\n",
    "bell.event = TRUE,\n",
    "bell.event.label.color = 'blue',\n",
    "bell.event.label.angle = 60,\n",
    "clone.time.step.scale = 1,\n",
    "bell.curve.step = 2,\n",
    "# node-based consensus tree parameters\n",
    "merged.tree.plot = TRUE,\n",
    "tree.node.label.split.character = NULL,\n",
    "tree.node.shape = 'circle',\n",
    "tree.node.size = 30,\n",
    "tree.node.text.size = 0.5,\n",
    "merged.tree.node.size.scale = 1.25,\n",
    "merged.tree.node.text.size.scale = 2.5,\n",
    "merged.tree.cell.frac.ci = FALSE,\n",
    "# branch-based consensus tree parameters\n",
    "merged.tree.clone.as.branch = TRUE,\n",
    "mtcab.event.sep.char = ',',\n",
    "mtcab.branch.text.size = 1,\n",
    "mtcab.branch.width = 0.75,\n",
    "mtcab.node.size = 3,\n",
    "mtcab.node.label.size = 1,\n",
    "mtcab.node.text.size = 1.5,\n",
    "# cellular population parameters\n",
    "cell.plot = TRUE,\n",
    "num.cells = 100,\n",
    "cell.border.size = 0.25,\n",
    "cell.border.color = 'black',\n",
    "clone.grouping = 'horizontal',\n",
    "#meta-parameters\n",
    "scale.monoclonal.cell.frac = TRUE,\n",
    "show.score = FALSE,\n",
    "cell.frac.ci = TRUE,\n",
    "disable.cell.frac = FALSE,\n",
    "# output figure parameters\n",
    "out.dir = 'output',\n",
    "out.format = 'pdf',\n",
    "overwrite.output = TRUE,\n",
    "width = 16,\n",
    "height = 8,\n",
    "# vector of width scales for each panel from left to right\n",
    "panel.widths = c(3,4,2,4,2))"
   ]
  },
  {
   "cell_type": "code",
   "execution_count": null,
   "id": "48fed121",
   "metadata": {},
   "outputs": [],
   "source": []
  },
  {
   "cell_type": "code",
   "execution_count": 47,
   "id": "a2bfdcd1",
   "metadata": {},
   "outputs": [
    {
     "name": "stderr",
     "output_type": "stream",
     "text": [
      "Using fishPlot version 0.5.2\n"
     ]
    }
   ],
   "source": [
    "library(fishplot)"
   ]
  },
  {
   "cell_type": "code",
   "execution_count": 48,
   "id": "512135f9",
   "metadata": {},
   "outputs": [
    {
     "name": "stdout",
     "output_type": "stream",
     "text": [
      "[1] 1\n"
     ]
    },
    {
     "data": {
      "image/png": "[encoded data removed]",
      "text/plain": [
       "plot without title"
      ]
     },
     "metadata": {},
     "output_type": "display_data"
    }
   ],
   "source": [
    "#create a list of fish objects \n",
    "f = generateFishplotInputs(results=y)\n",
    "fishes = createFishPlotObjects(f)\n",
    "\n",
    "fish = layoutClones(fishes[[1]])\n",
    "fish = setCol(fish,f$clonevol.clone.colors)\n",
    "fish.plot <- fishPlot(fish,shape=\"spline\", title.btm=\"Patient\", cex.title=0.5,\n",
    "         vlines=seq(1, length(f$samples)), vlab=f$samples, pad.left=0.5)"
   ]
  },
  {
   "cell_type": "code",
   "execution_count": null,
   "id": "1936b9db",
   "metadata": {},
   "outputs": [],
   "source": []
  }
 ],
 "metadata": {
  "kernelspec": {
   "display_name": "R",
   "language": "R",
   "name": "ir"
  },
  "language_info": {
   "codemirror_mode": "r",
   "file_extension": ".r",
   "mimetype": "text/x-r-source",
   "name": "R",
   "pygments_lexer": "r",
   "version": "3.6.1"
  }
 },
 "nbformat": 4,
 "nbformat_minor": 5
}
